{
  "nbformat": 4,
  "nbformat_minor": 0,
  "metadata": {
    "colab": {
      "provenance": []
    },
    "kernelspec": {
      "name": "python3",
      "display_name": "Python 3"
    },
    "language_info": {
      "name": "python"
    }
  },
  "cells": [
    {
      "cell_type": "code",
      "execution_count": 2,
      "metadata": {
        "id": "hVKNmwdSd6fh"
      },
      "outputs": [],
      "source": [
        "import numpy as np"
      ]
    },
    {
      "cell_type": "code",
      "source": [
        "np.__version__"
      ],
      "metadata": {
        "colab": {
          "base_uri": "https://localhost:8080/",
          "height": 35
        },
        "id": "x8dSdRkLd8tC",
        "outputId": "69a09f87-a45e-4c33-ca3f-9d3077c9473a"
      },
      "execution_count": null,
      "outputs": [
        {
          "output_type": "execute_result",
          "data": {
            "text/plain": [
              "'2.0.2'"
            ],
            "application/vnd.google.colaboratory.intrinsic+json": {
              "type": "string"
            }
          },
          "metadata": {},
          "execution_count": 2
        }
      ]
    },
    {
      "cell_type": "markdown",
      "source": [
        "##List vs Numpy Array"
      ],
      "metadata": {
        "id": "tIWH_NyLju45"
      }
    },
    {
      "cell_type": "code",
      "source": [
        "list1 = [1,2,3]\n",
        "\n",
        "array1 = np.array([1,2,3])"
      ],
      "metadata": {
        "id": "fRoBvyLoh5eV"
      },
      "execution_count": null,
      "outputs": []
    },
    {
      "cell_type": "code",
      "source": [
        "#Multiply each by 2\n",
        "\n",
        "list_result = [x*2 for x in list1]\n",
        "\n",
        "print(list_result)\n",
        "\n"
      ],
      "metadata": {
        "colab": {
          "base_uri": "https://localhost:8080/"
        },
        "id": "iYgfJcNOidXi",
        "outputId": "08a50310-2ce9-43d1-d71a-3251f7e0c36c"
      },
      "execution_count": null,
      "outputs": [
        {
          "output_type": "stream",
          "name": "stdout",
          "text": [
            "[2, 4, 6]\n"
          ]
        }
      ]
    },
    {
      "cell_type": "code",
      "source": [
        "print(array1 * 2)"
      ],
      "metadata": {
        "colab": {
          "base_uri": "https://localhost:8080/"
        },
        "id": "6p2tr_7sjj0_",
        "outputId": "a6960fd4-f235-4757-8cdb-61a8c3c6c17a"
      },
      "execution_count": null,
      "outputs": [
        {
          "output_type": "stream",
          "name": "stdout",
          "text": [
            "[2 4 6]\n"
          ]
        }
      ]
    },
    {
      "cell_type": "markdown",
      "source": [
        "#Numpy Arrays Basics\n",
        "\n",
        "###1D , 2D, 3D ARRAYS"
      ],
      "metadata": {
        "id": "a-l9A56TkedL"
      }
    },
    {
      "cell_type": "code",
      "source": [
        "# 1D Array\n",
        "\n",
        "marks_1d= np.array([85,90,76])\n",
        "\n",
        "print('1D:\\n',marks_1d)\n",
        "\n",
        "marks_1d.ndim"
      ],
      "metadata": {
        "colab": {
          "base_uri": "https://localhost:8080/"
        },
        "id": "w3jNZYcNjoV4",
        "outputId": "dc326efb-07ce-4257-aef9-facf8ad58b72"
      },
      "execution_count": null,
      "outputs": [
        {
          "output_type": "stream",
          "name": "stdout",
          "text": [
            "1D:\n",
            " [85 90 76]\n"
          ]
        },
        {
          "output_type": "execute_result",
          "data": {
            "text/plain": [
              "1"
            ]
          },
          "metadata": {},
          "execution_count": 18
        }
      ]
    },
    {
      "cell_type": "code",
      "source": [
        "marks_2d = np.array([[34,56,78],[23,45,78]])\n",
        "\n",
        "print('2D:\\n',marks_2d)"
      ],
      "metadata": {
        "colab": {
          "base_uri": "https://localhost:8080/"
        },
        "id": "9zYgtQSTl2Ma",
        "outputId": "5c8ebf8d-4557-47e6-cd00-ad0760eede6a"
      },
      "execution_count": null,
      "outputs": [
        {
          "output_type": "stream",
          "name": "stdout",
          "text": [
            "2D:\n",
            " [[34 56 78]\n",
            " [23 45 78]]\n"
          ]
        }
      ]
    },
    {
      "cell_type": "code",
      "source": [
        "marks_3d = np.array([[[20,40,56],[3,67,45]],[[45,78,34],[55,66,77]]])\n",
        "\n",
        "print('3D:\\n',marks_3d)"
      ],
      "metadata": {
        "colab": {
          "base_uri": "https://localhost:8080/"
        },
        "id": "6NVRodU-mgAC",
        "outputId": "a35da764-c696-4e9c-d0a3-7d7f728a6434"
      },
      "execution_count": null,
      "outputs": [
        {
          "output_type": "stream",
          "name": "stdout",
          "text": [
            "3D:\n",
            " [[[20 40 56]\n",
            "  [ 3 67 45]]\n",
            "\n",
            " [[45 78 34]\n",
            "  [55 66 77]]]\n"
          ]
        }
      ]
    },
    {
      "cell_type": "code",
      "source": [
        "mark_0d = np.array(34)\n",
        "\n",
        "mark_0d.ndim"
      ],
      "metadata": {
        "colab": {
          "base_uri": "https://localhost:8080/"
        },
        "id": "3_DYLnB5nNvW",
        "outputId": "a553b9b9-5ec8-48f9-df1f-ba8631fec8ee"
      },
      "execution_count": null,
      "outputs": [
        {
          "output_type": "execute_result",
          "data": {
            "text/plain": [
              "0"
            ]
          },
          "metadata": {},
          "execution_count": 19
        }
      ]
    },
    {
      "cell_type": "code",
      "source": [
        "np.zeros((2,3))"
      ],
      "metadata": {
        "colab": {
          "base_uri": "https://localhost:8080/"
        },
        "id": "Mg-XtsH1n6Fk",
        "outputId": "22321ba0-6d46-44ec-81b9-094ff696de3a"
      },
      "execution_count": null,
      "outputs": [
        {
          "output_type": "execute_result",
          "data": {
            "text/plain": [
              "array([[0., 0., 0.],\n",
              "       [0., 0., 0.]])"
            ]
          },
          "metadata": {},
          "execution_count": 22
        }
      ]
    },
    {
      "cell_type": "code",
      "source": [
        "np.ones((3,2))"
      ],
      "metadata": {
        "colab": {
          "base_uri": "https://localhost:8080/"
        },
        "id": "3NdWr6UFsU2J",
        "outputId": "44d43321-ec07-44c4-f64c-2a8567817ba7"
      },
      "execution_count": null,
      "outputs": [
        {
          "output_type": "execute_result",
          "data": {
            "text/plain": [
              "array([[1., 1.],\n",
              "       [1., 1.],\n",
              "       [1., 1.]])"
            ]
          },
          "metadata": {},
          "execution_count": 24
        }
      ]
    },
    {
      "cell_type": "code",
      "source": [
        "np.arange(1,10,2)"
      ],
      "metadata": {
        "colab": {
          "base_uri": "https://localhost:8080/"
        },
        "id": "3gdUEjctsbVM",
        "outputId": "39aafd0a-d844-4036-eb9d-96311c9601f3"
      },
      "execution_count": null,
      "outputs": [
        {
          "output_type": "execute_result",
          "data": {
            "text/plain": [
              "array([1, 3, 5, 7, 9])"
            ]
          },
          "metadata": {},
          "execution_count": 28
        }
      ]
    },
    {
      "cell_type": "code",
      "source": [
        "np.linspace(0,100,3)"
      ],
      "metadata": {
        "colab": {
          "base_uri": "https://localhost:8080/"
        },
        "id": "LRcPG0XMtAw1",
        "outputId": "fe5afd70-17f5-4530-dfa7-d127203a393f"
      },
      "execution_count": null,
      "outputs": [
        {
          "output_type": "execute_result",
          "data": {
            "text/plain": [
              "array([  0.,  50., 100.])"
            ]
          },
          "metadata": {},
          "execution_count": 31
        }
      ]
    },
    {
      "cell_type": "code",
      "source": [
        "arr = np.array((1.2,3.4,5.6))\n",
        "\n",
        "print(arr.dtype)"
      ],
      "metadata": {
        "colab": {
          "base_uri": "https://localhost:8080/"
        },
        "id": "08unxzhKtgIG",
        "outputId": "f0899d50-a323-4805-9c94-eaf174b2343f"
      },
      "execution_count": null,
      "outputs": [
        {
          "output_type": "stream",
          "name": "stdout",
          "text": [
            "float64\n"
          ]
        }
      ]
    },
    {
      "cell_type": "code",
      "source": [
        "a = np.array([[1,2,3],[4,5,6]])\n",
        "\n",
        "print('Shape: \\n', a.shape)\n",
        "\n",
        "print('Size: \\n', a.size)"
      ],
      "metadata": {
        "colab": {
          "base_uri": "https://localhost:8080/"
        },
        "id": "c735O6r5uCqB",
        "outputId": "a09d1d18-a6a5-4655-997e-4e0cbd41a77d"
      },
      "execution_count": null,
      "outputs": [
        {
          "output_type": "stream",
          "name": "stdout",
          "text": [
            "Shape: \n",
            " (2, 3)\n",
            "Size: \n",
            " 6\n"
          ]
        }
      ]
    },
    {
      "cell_type": "markdown",
      "source": [
        "##Array Indexing and Slicing"
      ],
      "metadata": {
        "id": "jexhb25Jw0cS"
      }
    },
    {
      "cell_type": "code",
      "source": [
        "arr1 = np.array((10,20,30,40,50))\n",
        "\n",
        "print(arr1[-1])\n",
        "\n",
        "\n",
        "\n"
      ],
      "metadata": {
        "colab": {
          "base_uri": "https://localhost:8080/"
        },
        "id": "ufs_C8j-wgkq",
        "outputId": "36d9a4de-49ce-4c50-cb15-cf805c33e54b"
      },
      "execution_count": null,
      "outputs": [
        {
          "output_type": "stream",
          "name": "stdout",
          "text": [
            "50\n",
            "[10 20 30 40 50]\n"
          ]
        }
      ]
    },
    {
      "cell_type": "code",
      "source": [
        "arr1[2] = 90\n",
        "print(arr1)"
      ],
      "metadata": {
        "colab": {
          "base_uri": "https://localhost:8080/"
        },
        "id": "jnYwpm0444gr",
        "outputId": "05c242b2-c37d-4d3f-9937-a6c4f53e3b2e"
      },
      "execution_count": null,
      "outputs": [
        {
          "output_type": "stream",
          "name": "stdout",
          "text": [
            "[10 20 90 40 50]\n"
          ]
        }
      ]
    },
    {
      "cell_type": "code",
      "source": [
        "arr2 = np.array([[1,2,3,4],[5,6,7,8]])\n",
        "\n",
        "print(arr2[1,2])"
      ],
      "metadata": {
        "colab": {
          "base_uri": "https://localhost:8080/"
        },
        "id": "yG87K4eK5EvG",
        "outputId": "0df5c4f0-98f0-47e7-bc76-91ba1fa4afa8"
      },
      "execution_count": null,
      "outputs": [
        {
          "output_type": "stream",
          "name": "stdout",
          "text": [
            "7\n"
          ]
        }
      ]
    },
    {
      "cell_type": "code",
      "source": [
        "arr3 = np.array([[[10,20,30],[40,50,60]],[[11,22,33],[44,55,66]]])\n",
        "\n",
        "print(arr3[1,1,1])"
      ],
      "metadata": {
        "colab": {
          "base_uri": "https://localhost:8080/"
        },
        "id": "kEGv8TTz6KH_",
        "outputId": "d6358fbf-05a9-4b70-f7d0-03c91d631df5"
      },
      "execution_count": null,
      "outputs": [
        {
          "output_type": "stream",
          "name": "stdout",
          "text": [
            "55\n"
          ]
        }
      ]
    },
    {
      "cell_type": "markdown",
      "source": [
        "###Slicing"
      ],
      "metadata": {
        "id": "UzTOB5xP8ZPd"
      }
    },
    {
      "cell_type": "code",
      "source": [
        "array12 =np.array([10,20,30,40,50,60])\n",
        "\n",
        "print(array12[-6:-1])"
      ],
      "metadata": {
        "colab": {
          "base_uri": "https://localhost:8080/"
        },
        "id": "0hHhgxfk7sYN",
        "outputId": "d385a227-440e-4ced-c6f3-eb9332d1ffc9"
      },
      "execution_count": null,
      "outputs": [
        {
          "output_type": "stream",
          "name": "stdout",
          "text": [
            "[10 20 30 40 50]\n"
          ]
        }
      ]
    },
    {
      "cell_type": "markdown",
      "source": [
        "##Syntax\n",
        "##Slicing Array\n",
        "#arr[start:stop:step]"
      ],
      "metadata": {
        "id": "tM4fRwlo92Bb"
      }
    },
    {
      "cell_type": "code",
      "source": [
        "print(array12[::-1])"
      ],
      "metadata": {
        "id": "kj1vnseo8nWZ",
        "colab": {
          "base_uri": "https://localhost:8080/"
        },
        "outputId": "48eab709-2f3a-4b10-f273-61af794d6187"
      },
      "execution_count": null,
      "outputs": [
        {
          "output_type": "stream",
          "name": "stdout",
          "text": [
            "[60 50 40 30 20 10]\n"
          ]
        }
      ]
    },
    {
      "cell_type": "code",
      "source": [
        "matrix = np.array([[2,3,4],\n",
        "                   [5,6,7],\n",
        "                   [8,9,10]])\n",
        "\n",
        "print(matrix[-1:,-2:])"
      ],
      "metadata": {
        "colab": {
          "base_uri": "https://localhost:8080/"
        },
        "id": "lIuANQ9bALVO",
        "outputId": "3fdcc775-efb5-47c3-d361-f53028d9722a"
      },
      "execution_count": null,
      "outputs": [
        {
          "output_type": "stream",
          "name": "stdout",
          "text": [
            "[[ 9 10]]\n"
          ]
        }
      ]
    },
    {
      "cell_type": "code",
      "source": [
        " #Boolean Indexing\n",
        "\n",
        " score = np.array([80,85,90,95,100])\n",
        "\n",
        " print(score[score >= 90])"
      ],
      "metadata": {
        "colab": {
          "base_uri": "https://localhost:8080/"
        },
        "id": "v5eO6Lg-Gk9A",
        "outputId": "878fb830-8c6b-470e-d55c-7489d0e91cdd"
      },
      "execution_count": null,
      "outputs": [
        {
          "output_type": "stream",
          "name": "stdout",
          "text": [
            "[ 90  95 100]\n"
          ]
        }
      ]
    },
    {
      "cell_type": "code",
      "source": [
        "score>=90"
      ],
      "metadata": {
        "colab": {
          "base_uri": "https://localhost:8080/"
        },
        "id": "A9bEPFZ0HCtC",
        "outputId": "731395cc-ed39-4471-c531-e22c20fb4c05"
      },
      "execution_count": null,
      "outputs": [
        {
          "output_type": "execute_result",
          "data": {
            "text/plain": [
              "array([False, False,  True,  True,  True])"
            ]
          },
          "metadata": {},
          "execution_count": 14
        }
      ]
    },
    {
      "cell_type": "code",
      "source": [
        "# Fancy Indexing\n",
        "\n",
        "fancyarr= np.array([10,20,30,40,50,60])\n",
        "\n",
        "indices = [0,1,2,3]\n",
        "\n",
        "print(fancyarr[indices])"
      ],
      "metadata": {
        "colab": {
          "base_uri": "https://localhost:8080/"
        },
        "id": "-8LpEU7jKOLB",
        "outputId": "b962ada8-8219-4af9-e53b-2e15f28a46f6"
      },
      "execution_count": null,
      "outputs": [
        {
          "output_type": "stream",
          "name": "stdout",
          "text": [
            "[10 20 30 40]\n"
          ]
        }
      ]
    },
    {
      "cell_type": "markdown",
      "source": [
        "##Array Operations and Broadcasting"
      ],
      "metadata": {
        "id": "93psEYONNv6R"
      }
    },
    {
      "cell_type": "code",
      "source": [
        "store1 = np.array([350,500,600,400])\n",
        "store2 = np.array([120,405,340,230])\n",
        "\n",
        "print('Addition:',store1 + store2)\n",
        "print('Substraction:',store1 - store2)\n",
        "print('Multiplication:',store1 * store2)\n",
        "print('Division:',store1 / store2)\n"
      ],
      "metadata": {
        "colab": {
          "base_uri": "https://localhost:8080/"
        },
        "id": "utkZrVbTLo4J",
        "outputId": "50da08dd-3669-4df1-e8fb-ce54285d7a96"
      },
      "execution_count": null,
      "outputs": [
        {
          "output_type": "stream",
          "name": "stdout",
          "text": [
            "Addition: [470 905 940 630]\n",
            "Substraction: [230  95 260 170]\n",
            "Multiplication: [ 42000 202500 204000  92000]\n",
            "Division: [2.91666667 1.2345679  1.76470588 1.73913043]\n"
          ]
        }
      ]
    },
    {
      "cell_type": "code",
      "source": [
        "#Scalar operations (Array + Number)\n",
        "\n",
        "marks1 = np.array([10,20,30,40])\n",
        "\n",
        "print(marks1 * 2)\n",
        "\n",
        "print(marks1 + 2)"
      ],
      "metadata": {
        "colab": {
          "base_uri": "https://localhost:8080/"
        },
        "id": "WCexumKBM6Ph",
        "outputId": "abebd941-d2d2-4779-f0f5-be15d574739b"
      },
      "execution_count": null,
      "outputs": [
        {
          "output_type": "stream",
          "name": "stdout",
          "text": [
            "[20 40 60 80]\n",
            "[12 22 32 42]\n"
          ]
        }
      ]
    },
    {
      "cell_type": "code",
      "source": [
        "scores1 = np.array([10,20,30,40,50,60])\n",
        "\n",
        "print((scores1 >=50) & (scores1 >60))\n",
        "print((scores1 >=50) | (scores1 >60))\n",
        "print(~(scores1 >=50) | (scores1 >60))"
      ],
      "metadata": {
        "colab": {
          "base_uri": "https://localhost:8080/"
        },
        "id": "JRi4gPBYPY85",
        "outputId": "e661b973-b64a-4b77-cb3d-2c9a7f30304a"
      },
      "execution_count": null,
      "outputs": [
        {
          "output_type": "stream",
          "name": "stdout",
          "text": [
            "[False False False False False False]\n",
            "[False False False False  True  True]\n",
            "[ True  True  True  True False False]\n"
          ]
        }
      ]
    },
    {
      "cell_type": "code",
      "source": [
        "#Aggregation Functions min(),max(),sum(),mean()\n",
        "\n",
        "marks2 = np.array([40,50,60,70])\n",
        "\n",
        "print('Min:',marks2.min())\n",
        "print('Max:',marks2.max())\n",
        "print('Sum:',marks2.sum())\n",
        "print('Average:',marks2.mean())"
      ],
      "metadata": {
        "colab": {
          "base_uri": "https://localhost:8080/"
        },
        "id": "SPEK1uyTQyKL",
        "outputId": "2f756b62-295d-4b88-f438-cc34de44a4b3"
      },
      "execution_count": null,
      "outputs": [
        {
          "output_type": "stream",
          "name": "stdout",
          "text": [
            "Min: 40\n",
            "Max: 70\n",
            "Sum: 220\n",
            "Average: 55.0\n"
          ]
        }
      ]
    },
    {
      "cell_type": "code",
      "source": [
        "marks12 = np.array([[10,20,30],\n",
        "                    [40,50,60]])\n",
        "\n",
        "print(marks12.sum(axis=0))\n",
        "print(marks12.sum(axis=1))"
      ],
      "metadata": {
        "id": "1kgM__6ZTDOV",
        "colab": {
          "base_uri": "https://localhost:8080/"
        },
        "outputId": "a8f824af-e33d-4dca-c219-5fbbc5e050f9"
      },
      "execution_count": null,
      "outputs": [
        {
          "output_type": "stream",
          "name": "stdout",
          "text": [
            "[50 70 90]\n",
            "[ 60 150]\n"
          ]
        }
      ]
    },
    {
      "cell_type": "code",
      "source": [
        "marks13 = np.array([[1,2,3],\n",
        "                    [5,6,7]])\n",
        "\n",
        "bonus = 10\n",
        "\n",
        "#Broadcasting adds 10 to every elements\n",
        "\n",
        "print(marks13 + bonus)"
      ],
      "metadata": {
        "colab": {
          "base_uri": "https://localhost:8080/"
        },
        "id": "UmQxoAwm5cju",
        "outputId": "6c9b906f-fed2-4a8b-e498-d636346eecfb"
      },
      "execution_count": null,
      "outputs": [
        {
          "output_type": "stream",
          "name": "stdout",
          "text": [
            "[[11 12 13]\n",
            " [15 16 17]]\n"
          ]
        }
      ]
    },
    {
      "cell_type": "code",
      "source": [
        "curve = np.array([1,2,3])\n",
        "\n",
        "print(marks13 + curve)"
      ],
      "metadata": {
        "colab": {
          "base_uri": "https://localhost:8080/"
        },
        "id": "Mt50FCaq6V9U",
        "outputId": "dc970580-379b-47ce-9968-cd8a41aaef71"
      },
      "execution_count": null,
      "outputs": [
        {
          "output_type": "stream",
          "name": "stdout",
          "text": [
            "[[ 2  4  6]\n",
            " [ 6  8 10]]\n"
          ]
        }
      ]
    },
    {
      "cell_type": "markdown",
      "source": [
        "##Reshaping and resizing an Array"
      ],
      "metadata": {
        "id": "1DyRSh1N7Ad1"
      }
    },
    {
      "cell_type": "code",
      "source": [
        "grades = np.array([10,20,30,40,50,60,70,80,90,100,110,120])\n",
        "reshaped = grades.reshape(2,3,2)\n",
        "\n",
        "print(reshaped)\n",
        "\n",
        "reshaped.ndim"
      ],
      "metadata": {
        "colab": {
          "base_uri": "https://localhost:8080/"
        },
        "id": "n8bUsLI86mIr",
        "outputId": "f8047ba4-a272-40c6-b224-a63a30b81001"
      },
      "execution_count": null,
      "outputs": [
        {
          "output_type": "stream",
          "name": "stdout",
          "text": [
            "[[[ 10  20]\n",
            "  [ 30  40]\n",
            "  [ 50  60]]\n",
            "\n",
            " [[ 70  80]\n",
            "  [ 90 100]\n",
            "  [110 120]]]\n"
          ]
        },
        {
          "output_type": "execute_result",
          "data": {
            "text/plain": [
              "3"
            ]
          },
          "metadata": {},
          "execution_count": 10
        }
      ]
    },
    {
      "cell_type": "code",
      "source": [
        "#Flattening an array\n",
        "\n",
        "matrix1 = np.array([[1,2,3],[4,5,6]])\n",
        "\n",
        "matrix1.flatten()\n",
        "\n",
        "print(matrix1)\n"
      ],
      "metadata": {
        "colab": {
          "base_uri": "https://localhost:8080/"
        },
        "id": "r9rKydKC7Z8m",
        "outputId": "e100c1e2-836b-4944-91ce-d9acfd3e1f2f"
      },
      "execution_count": null,
      "outputs": [
        {
          "output_type": "stream",
          "name": "stdout",
          "text": [
            "[[1 2 3]\n",
            " [4 5 6]]\n"
          ]
        }
      ]
    },
    {
      "cell_type": "code",
      "source": [
        "#Resize an array\n",
        "\n",
        "arr01 = np.array([1,2,3,4])\n",
        "\n",
        "resized = np.resize(arr01,(2,3))\n",
        "\n",
        "print(resized)"
      ],
      "metadata": {
        "id": "CSX3ujrc9m9s",
        "colab": {
          "base_uri": "https://localhost:8080/"
        },
        "outputId": "d495e7a3-a751-4bb6-bada-18e17f5212be"
      },
      "execution_count": null,
      "outputs": [
        {
          "output_type": "stream",
          "name": "stdout",
          "text": [
            "[[1 2 3]\n",
            " [4 1 2]]\n"
          ]
        }
      ]
    },
    {
      "cell_type": "code",
      "source": [
        "matrix12 = np.array([[1,2],\n",
        "                    [3,4],\n",
        "                     [5,6]])\n",
        "\n",
        "print('Original:\\n',matrix12)\n",
        "\n",
        "print('Transpose:\\n',matrix12.T)"
      ],
      "metadata": {
        "colab": {
          "base_uri": "https://localhost:8080/"
        },
        "id": "0zkt4ICbDXKp",
        "outputId": "1904a843-2f2c-489a-ccbd-22dcbc9f5223"
      },
      "execution_count": null,
      "outputs": [
        {
          "output_type": "stream",
          "name": "stdout",
          "text": [
            "Original:\n",
            " [[1 2]\n",
            " [3 4]\n",
            " [5 6]]\n",
            "Transpose:\n",
            " [[1 3 5]\n",
            " [2 4 6]]\n"
          ]
        }
      ]
    },
    {
      "cell_type": "code",
      "source": [
        "# Concatenation of arrays\n",
        "\n",
        "arrayone = np.array([1,2,3,4])\n",
        "\n",
        "arraytwo = np.array([5,6,7,8])\n",
        "\n",
        "print(np.concatenate((arrayone,arraytwo)))\n"
      ],
      "metadata": {
        "colab": {
          "base_uri": "https://localhost:8080/"
        },
        "id": "JhhP_1syFeZ9",
        "outputId": "50cef7a3-503d-4450-f913-d9038f71c559"
      },
      "execution_count": null,
      "outputs": [
        {
          "output_type": "stream",
          "name": "stdout",
          "text": [
            "[1 2 3 4 5 6 7 8]\n"
          ]
        }
      ]
    },
    {
      "cell_type": "code",
      "source": [
        "a = np.array([[1,2],[3,4]])\n",
        "b = np.array([[5,6],[7,8]])\n",
        "\n",
        "combined = np.concatenate((a,b),axis=0)\n",
        "\n",
        "print(combined)"
      ],
      "metadata": {
        "colab": {
          "base_uri": "https://localhost:8080/"
        },
        "id": "2VkxMwCYInrs",
        "outputId": "bc36afee-8b1b-417c-8c27-84baf14a18af"
      },
      "execution_count": null,
      "outputs": [
        {
          "output_type": "stream",
          "name": "stdout",
          "text": [
            "[[1 2]\n",
            " [3 4]\n",
            " [5 6]\n",
            " [7 8]]\n"
          ]
        }
      ]
    },
    {
      "cell_type": "code",
      "source": [
        "c = np.array([[1,2],[3,4]])\n",
        "d = np.array([[5],[6]])\n",
        "\n",
        "combined = np.concatenate((c,d),axis=1)\n",
        "\n",
        "print(combined)"
      ],
      "metadata": {
        "colab": {
          "base_uri": "https://localhost:8080/"
        },
        "id": "xAliy6vTKvHc",
        "outputId": "1a5cd5a0-faff-4f0f-b8ed-71487f98d26c"
      },
      "execution_count": null,
      "outputs": [
        {
          "output_type": "stream",
          "name": "stdout",
          "text": [
            "[[1 2 5]\n",
            " [3 4 6]]\n"
          ]
        }
      ]
    },
    {
      "cell_type": "code",
      "source": [
        "# using np.vstack() and np.hstack()\n",
        "\n",
        "e = np.array([1,2])\n",
        "f = np.array([3,4])\n",
        "\n",
        "print('Vertical:\\n',np.vstack((e,f)))\n",
        "print('Horizontal:\\n',np.hstack((e,f)))"
      ],
      "metadata": {
        "colab": {
          "base_uri": "https://localhost:8080/"
        },
        "id": "Ylw5sqWILkrI",
        "outputId": "8aa94c9c-7358-43bb-9280-0bdba3b11e62"
      },
      "execution_count": null,
      "outputs": [
        {
          "output_type": "stream",
          "name": "stdout",
          "text": [
            "Vertical:\n",
            " [[1 2]\n",
            " [3 4]]\n",
            "Horizontal:\n",
            " [1 2 3 4]\n"
          ]
        }
      ]
    },
    {
      "cell_type": "code",
      "source": [
        "# splitting of arrays\n",
        "arr14 = np.array([1,2,3,4,5,6])\n",
        "\n",
        "split_arr = np.split(arr14,3) #split into 3 equal parts\n",
        "\n",
        "print(split_arr)"
      ],
      "metadata": {
        "colab": {
          "base_uri": "https://localhost:8080/"
        },
        "id": "i5vf_ySWMZWA",
        "outputId": "5900643c-c658-4734-8a6a-67bd2dada22f"
      },
      "execution_count": null,
      "outputs": [
        {
          "output_type": "stream",
          "name": "stdout",
          "text": [
            "[array([1, 2]), array([3, 4]), array([5, 6])]\n"
          ]
        }
      ]
    },
    {
      "cell_type": "markdown",
      "source": [
        "###Splitting 2D Arrays\n",
        "\n",
        "Split 2D arrays by rows (vsplit) or coloumns (hsplit)"
      ],
      "metadata": {
        "id": "N7u6gfgvcuWB"
      }
    },
    {
      "cell_type": "code",
      "source": [
        "matrix123 = np.array([[1,2,3,4],\n",
        "                      [5,6,7,8]])\n",
        "\n",
        "#Split columns\n",
        "\n",
        "left , right = np.hsplit(matrix123,2)\n",
        "\n",
        "print('Left:\\n',left)\n",
        "print('Right:\\n',right)"
      ],
      "metadata": {
        "colab": {
          "base_uri": "https://localhost:8080/"
        },
        "id": "d2uiJ2Kzb-CU",
        "outputId": "e697be84-2a5f-409d-c324-3adcbfe66d8b"
      },
      "execution_count": null,
      "outputs": [
        {
          "output_type": "stream",
          "name": "stdout",
          "text": [
            "Left:\n",
            " [[1 2]\n",
            " [5 6]]\n",
            "Right:\n",
            " [[3 4]\n",
            " [7 8]]\n"
          ]
        }
      ]
    },
    {
      "cell_type": "code",
      "source": [
        "#Split rows\n",
        "\n",
        "top,bottom = np.vsplit(matrix123,2)\n",
        "\n",
        "print('Top:\\n',top)\n",
        "print('Bottom:\\n',bottom)"
      ],
      "metadata": {
        "colab": {
          "base_uri": "https://localhost:8080/"
        },
        "id": "w_NQFc17dTl-",
        "outputId": "9f2f1dc0-14df-4610-da82-73711b05e2e9"
      },
      "execution_count": null,
      "outputs": [
        {
          "output_type": "stream",
          "name": "stdout",
          "text": [
            "Top:\n",
            " [[1 2 3 4]]\n",
            "Bottom:\n",
            " [[5 6 7 8]]\n"
          ]
        }
      ]
    },
    {
      "cell_type": "markdown",
      "source": [
        "##Copying And Views in Numpy"
      ],
      "metadata": {
        "id": "8L2Z3OwrLuyN"
      }
    },
    {
      "cell_type": "code",
      "source": [
        "arr45 = np.array([10,20,30,40,50])"
      ],
      "metadata": {
        "id": "InYaOxGHdfcg"
      },
      "execution_count": null,
      "outputs": []
    },
    {
      "cell_type": "code",
      "source": [
        "view = arr45[1:3]\n",
        "\n",
        "view[0] = 99\n",
        "\n",
        "print('View: ',view)\n",
        "\n",
        "print('Original:', arr45)\n"
      ],
      "metadata": {
        "colab": {
          "base_uri": "https://localhost:8080/"
        },
        "id": "AWWY0Q2B7sWV",
        "outputId": "3bf76631-868c-44cc-e4e1-6c5b6625a3ee"
      },
      "execution_count": null,
      "outputs": [
        {
          "output_type": "stream",
          "name": "stdout",
          "text": [
            "View:  [99 30]\n",
            "Original: [10 99 30 40 50]\n"
          ]
        }
      ]
    },
    {
      "cell_type": "code",
      "source": [
        "ogarr= np.array([10,20,30,40,50])\n",
        "\n",
        "copy_arr = ogarr.copy()\n",
        "\n",
        "# copy_arr\n",
        "\n",
        "copy_arr[0] = 99\n",
        "\n",
        "\n",
        "\n",
        "print('Original:',ogarr)\n",
        "print('Copy:',copy_arr)"
      ],
      "metadata": {
        "colab": {
          "base_uri": "https://localhost:8080/"
        },
        "id": "vum5iyVhE9JL",
        "outputId": "5a58d196-bcf2-4f1a-ec53-735ab178a758"
      },
      "execution_count": null,
      "outputs": [
        {
          "output_type": "stream",
          "name": "stdout",
          "text": [
            "Original: [10 20 30 40 50]\n",
            "Copy: [99 20 30 40 50]\n"
          ]
        }
      ]
    },
    {
      "cell_type": "markdown",
      "source": [
        "#Memory Sharing in Array"
      ],
      "metadata": {
        "id": "vwEa38aIL-rv"
      }
    },
    {
      "cell_type": "code",
      "source": [
        "from numpy import may_share_memory"
      ],
      "metadata": {
        "id": "k-QrtdYlFOLM"
      },
      "execution_count": null,
      "outputs": []
    },
    {
      "cell_type": "code",
      "source": [
        "original = np.array([10,20,30,40])\n",
        "\n",
        "view = original[1:]\n",
        "\n",
        "copy = original.copy()\n",
        "\n",
        "print(may_share_memory(original , view))\n",
        "\n",
        "print(may_share_memory(original , copy))"
      ],
      "metadata": {
        "colab": {
          "base_uri": "https://localhost:8080/"
        },
        "id": "l8sbz_c1FUoi",
        "outputId": "92aa5e0f-1847-4fbb-91d2-d39f16d5f2fa"
      },
      "execution_count": null,
      "outputs": [
        {
          "output_type": "stream",
          "name": "stdout",
          "text": [
            "True\n",
            "False\n"
          ]
        }
      ]
    },
    {
      "cell_type": "markdown",
      "source": [
        "##Iterating over Arrays"
      ],
      "metadata": {
        "id": "99B1wm4nh0dh"
      }
    },
    {
      "cell_type": "code",
      "source": [
        "array2d = np.array([[1,2],[3,4],[5,6]])\n",
        "\n",
        "for row in array2d:\n",
        "  print('rows:',row)"
      ],
      "metadata": {
        "id": "AAZuXboeMeeh",
        "colab": {
          "base_uri": "https://localhost:8080/"
        },
        "outputId": "38c96dfc-5759-47b6-9502-ea10409b8101"
      },
      "execution_count": null,
      "outputs": [
        {
          "output_type": "stream",
          "name": "stdout",
          "text": [
            "rows: [1 2]\n",
            "rows: [3 4]\n",
            "rows: [5 6]\n"
          ]
        }
      ]
    },
    {
      "cell_type": "markdown",
      "source": [
        "##Iterating over every element using flat"
      ],
      "metadata": {
        "id": "lxsgKVoLH-Ir"
      }
    },
    {
      "cell_type": "code",
      "source": [
        "array9= np.array([[1,2],[3,4],[5,6]])\n",
        "\n",
        "for val in array9.flat:\n",
        "  print(val, end=' ')"
      ],
      "metadata": {
        "id": "TxlroUVViSPD",
        "colab": {
          "base_uri": "https://localhost:8080/"
        },
        "outputId": "8727db99-1255-4006-e35d-983056cee5de"
      },
      "execution_count": null,
      "outputs": [
        {
          "output_type": "stream",
          "name": "stdout",
          "text": [
            "1 2 3 4 5 6 "
          ]
        }
      ]
    },
    {
      "cell_type": "markdown",
      "source": [
        "##Modification in an array by Nditer"
      ],
      "metadata": {
        "id": "GvGEtOzsK9nH"
      }
    },
    {
      "cell_type": "code",
      "source": [
        "array10 = np.array([1,2,3])\n",
        "\n",
        "for elem in np.nditer(array10, op_flags = ['readwrite']):\n",
        "  elem[...] = elem * 2\n",
        "  print('Modified:',array10)"
      ],
      "metadata": {
        "colab": {
          "base_uri": "https://localhost:8080/"
        },
        "id": "MAnzHBhRIbBI",
        "outputId": "4ba3bcc9-40e4-4d7b-aed0-70126636d9a6"
      },
      "execution_count": null,
      "outputs": [
        {
          "output_type": "stream",
          "name": "stdout",
          "text": [
            "Modified: [2 2 3]\n",
            "Modified: [2 4 3]\n",
            "Modified: [2 4 6]\n"
          ]
        }
      ]
    },
    {
      "cell_type": "markdown",
      "source": [
        "##ndenumerate() use for debugging"
      ],
      "metadata": {
        "id": "HGy8v0xtZG33"
      }
    },
    {
      "cell_type": "code",
      "source": [
        "array11 = np.array([[100,200],[300,400]])\n",
        "\n",
        "for index,value in np.ndenumerate(array11):\n",
        "  print(f\"Index{index}has value{value}\")"
      ],
      "metadata": {
        "colab": {
          "base_uri": "https://localhost:8080/"
        },
        "id": "ktLktaOVJjrX",
        "outputId": "b30f25e1-92b6-42fb-bb60-01df9fa3358d"
      },
      "execution_count": null,
      "outputs": [
        {
          "output_type": "stream",
          "name": "stdout",
          "text": [
            "Index(0, 0)has value100\n",
            "Index(0, 1)has value200\n",
            "Index(1, 0)has value300\n",
            "Index(1, 1)has value400\n"
          ]
        }
      ]
    },
    {
      "cell_type": "markdown",
      "source": [
        "##Random Module in Numpy"
      ],
      "metadata": {
        "id": "8Tk4YFMJZO-X"
      }
    },
    {
      "cell_type": "code",
      "source": [
        "print(np.random.rand(3)) #1D array"
      ],
      "metadata": {
        "colab": {
          "base_uri": "https://localhost:8080/"
        },
        "id": "pDfbnYE2TyIB",
        "outputId": "631e6582-c4d7-48bc-ae6d-6476f931bdab"
      },
      "execution_count": null,
      "outputs": [
        {
          "output_type": "stream",
          "name": "stdout",
          "text": [
            "[0.24485539 0.29953177 0.15706419]\n"
          ]
        }
      ]
    },
    {
      "cell_type": "code",
      "source": [
        "print(np.random.rand(2,2))"
      ],
      "metadata": {
        "colab": {
          "base_uri": "https://localhost:8080/"
        },
        "id": "90wTNxglzhm5",
        "outputId": "6aa9a530-4537-471d-e3c6-da4edb5a2f30"
      },
      "execution_count": null,
      "outputs": [
        {
          "output_type": "stream",
          "name": "stdout",
          "text": [
            "[[0.60916255 0.4993883 ]\n",
            " [0.71581213 0.54377896]]\n"
          ]
        }
      ]
    },
    {
      "cell_type": "code",
      "source": [
        "#Randome Integers\n",
        "\n",
        "print(np.random.randint(10,20, size=5))"
      ],
      "metadata": {
        "colab": {
          "base_uri": "https://localhost:8080/"
        },
        "id": "iCcxa8Vy1m3S",
        "outputId": "e3ef0330-591c-4b4d-f9ab-2618c69e66b9"
      },
      "execution_count": null,
      "outputs": [
        {
          "output_type": "stream",
          "name": "stdout",
          "text": [
            "[17 15 13 14 18]\n"
          ]
        }
      ]
    },
    {
      "cell_type": "markdown",
      "source": [
        "##np.random.randn() standard normal distribution"
      ],
      "metadata": {
        "id": "LVcCHWKW4sDK"
      }
    },
    {
      "cell_type": "code",
      "source": [
        "#Returns sample from the standard normal distribution (mean = 0, std= 1)\n",
        "\n",
        "print(np.random.randn(3))\n",
        "print(np.random.randn(2,2))"
      ],
      "metadata": {
        "colab": {
          "base_uri": "https://localhost:8080/"
        },
        "id": "JOucAW9G4J0z",
        "outputId": "ed540762-cf41-4aba-8cb3-81c4ed2fd968"
      },
      "execution_count": null,
      "outputs": [
        {
          "output_type": "stream",
          "name": "stdout",
          "text": [
            "[0.29442768 1.316137   0.29517236]\n",
            "[[ 0.72958666  0.38687778]\n",
            " [-0.90665832 -2.71882768]]\n"
          ]
        }
      ]
    },
    {
      "cell_type": "markdown",
      "source": [
        "##Randomly picking elements"
      ],
      "metadata": {
        "id": "vf3KgZJS537k"
      }
    },
    {
      "cell_type": "code",
      "source": [
        "items = ['banana','apple','chikuu']\n",
        "\n",
        "print(np.random.choice(items, size= 2))"
      ],
      "metadata": {
        "colab": {
          "base_uri": "https://localhost:8080/"
        },
        "id": "dBC1otdw46PK",
        "outputId": "99a527ac-6efc-40ce-bf90-7651b0dfe859"
      },
      "execution_count": null,
      "outputs": [
        {
          "output_type": "stream",
          "name": "stdout",
          "text": [
            "['banana' 'banana']\n"
          ]
        }
      ]
    },
    {
      "cell_type": "markdown",
      "source": [
        "##Shuffle element in-place"
      ],
      "metadata": {
        "id": "g3Usj8HS6oW8"
      }
    },
    {
      "cell_type": "code",
      "source": [
        "arrayshuf= [1,2,3,4,5]\n",
        "\n",
        "np.random.shuffle(arrayshuf)\n",
        "\n",
        "print('shuffled:',arrayshuf)"
      ],
      "metadata": {
        "colab": {
          "base_uri": "https://localhost:8080/"
        },
        "id": "zeO6_Jig6H26",
        "outputId": "faec6acd-e62e-4ba8-8479-6271ce70f283"
      },
      "execution_count": null,
      "outputs": [
        {
          "output_type": "stream",
          "name": "stdout",
          "text": [
            "shuffled: [5, 1, 4, 3, 2]\n"
          ]
        }
      ]
    },
    {
      "cell_type": "code",
      "source": [
        "arrayshuf #original array is shuffled"
      ],
      "metadata": {
        "colab": {
          "base_uri": "https://localhost:8080/"
        },
        "id": "F7jMYkVw6vlW",
        "outputId": "2c120cb1-8010-42b1-f149-7a6d39a91327"
      },
      "execution_count": null,
      "outputs": [
        {
          "output_type": "execute_result",
          "data": {
            "text/plain": [
              "[5, 1, 4, 3, 2]"
            ]
          },
          "metadata": {},
          "execution_count": 32
        }
      ]
    },
    {
      "cell_type": "code",
      "source": [
        "arrayper = np.array([10,20,30,40])\n",
        "shuffled = np.random.permutation(arrayper)\n",
        "\n",
        "print('Original:',arrayper)\n",
        "print('Shuffled:',shuffled)"
      ],
      "metadata": {
        "colab": {
          "base_uri": "https://localhost:8080/"
        },
        "id": "zSNjJOgP6_xc",
        "outputId": "46f355d3-870e-4a10-d8e3-32839bb17f32"
      },
      "execution_count": null,
      "outputs": [
        {
          "output_type": "stream",
          "name": "stdout",
          "text": [
            "Original: [10 20 30 40]\n",
            "Shuffled: [40 30 20 10]\n"
          ]
        }
      ]
    },
    {
      "cell_type": "markdown",
      "source": [
        "##Setting a seed"
      ],
      "metadata": {
        "id": "pQepmkfJ7yKg"
      }
    },
    {
      "cell_type": "code",
      "source": [
        "np.random.seed(10)\n",
        "\n",
        "print(np.random.rand(3))"
      ],
      "metadata": {
        "colab": {
          "base_uri": "https://localhost:8080/"
        },
        "id": "LaaPVTz87X1s",
        "outputId": "1eff057e-2801-420b-b857-45505759ceb5"
      },
      "execution_count": null,
      "outputs": [
        {
          "output_type": "stream",
          "name": "stdout",
          "text": [
            "[0.77132064 0.02075195 0.63364823]\n"
          ]
        }
      ]
    },
    {
      "cell_type": "markdown",
      "source": [
        "##Mathematical functins in Numpy\n",
        "\n",
        "![image.png](data:image/png;base64,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)"
      ],
      "metadata": {
        "id": "f1hNAyH_Czcr"
      }
    },
    {
      "cell_type": "code",
      "source": [
        "np.sum(arrayper)\n",
        "\n",
        "np.var(arrayper)\n",
        "\n",
        "np.std(arrayper)\n",
        "\n",
        "np.median(arrayper)\n",
        "\n",
        "#np.log(arrayper)\n",
        "\n",
        "np.exp(1)\n",
        "\n",
        "np.log(3)"
      ],
      "metadata": {
        "colab": {
          "base_uri": "https://localhost:8080/"
        },
        "id": "uFlxA6Iq77Bg",
        "outputId": "a1d65586-b016-46bd-ac7a-fa00a15c6017"
      },
      "execution_count": null,
      "outputs": [
        {
          "output_type": "execute_result",
          "data": {
            "text/plain": [
              "np.float64(1.0986122886681098)"
            ]
          },
          "metadata": {},
          "execution_count": 55
        }
      ]
    },
    {
      "cell_type": "markdown",
      "source": [
        "##Numpy String Functions"
      ],
      "metadata": {
        "id": "daxvvVszJE6t"
      }
    },
    {
      "cell_type": "code",
      "source": [
        "names = np.array(['Alice','Bob','Grossi','Charlie'])\n",
        "\n",
        "print(np.char.lower(names))\n",
        "print(np.char.upper(names))\n",
        "print(np.char.capitalize(names))\n",
        "print(np.char.title(names))\n",
        "print(np.char.swapcase(names))"
      ],
      "metadata": {
        "colab": {
          "base_uri": "https://localhost:8080/"
        },
        "id": "TQZZyyd3JEsG",
        "outputId": "97027c89-9364-49d0-a9ac-85e3f4728485"
      },
      "execution_count": null,
      "outputs": [
        {
          "output_type": "stream",
          "name": "stdout",
          "text": [
            "['alice' 'bob' 'grossi' 'charlie']\n",
            "['ALICE' 'BOB' 'GROSSI' 'CHARLIE']\n",
            "['Alice' 'Bob' 'Grossi' 'Charlie']\n",
            "['Alice' 'Bob' 'Grossi' 'Charlie']\n",
            "['aLICE' 'bOB' 'gROSSI' 'cHARLIE']\n"
          ]
        }
      ]
    },
    {
      "cell_type": "code",
      "source": [
        "first = np.array(['John','Peter'])\n",
        "last = np.array(['Smith','Parker'])\n",
        "\n",
        "print(np.char.add(first,last))\n"
      ],
      "metadata": {
        "colab": {
          "base_uri": "https://localhost:8080/"
        },
        "id": "ns-BE8XYD5xl",
        "outputId": "89b99dc8-d33e-4db5-ab65-230976d95ca7"
      },
      "execution_count": null,
      "outputs": [
        {
          "output_type": "stream",
          "name": "stdout",
          "text": [
            "['JohnSmith' 'PeterParker']\n"
          ]
        }
      ]
    },
    {
      "cell_type": "code",
      "source": [
        "words =np.array(['Hi','Hello'])\n",
        "\n",
        "print(np.char.multiply(words,2))\n"
      ],
      "metadata": {
        "colab": {
          "base_uri": "https://localhost:8080/"
        },
        "id": "KQZmZ1lKMoWd",
        "outputId": "baebd683-a7a9-44e3-d4d1-9bbdb5f98f36"
      },
      "execution_count": null,
      "outputs": [
        {
          "output_type": "stream",
          "name": "stdout",
          "text": [
            "['HiHi' 'HelloHello']\n"
          ]
        }
      ]
    },
    {
      "cell_type": "code",
      "source": [
        "print(np.char.center(words,10,fillchar='+'))"
      ],
      "metadata": {
        "colab": {
          "base_uri": "https://localhost:8080/"
        },
        "id": "Goo7ESH3Mwgk",
        "outputId": "a8bbc2cf-7108-4e95-ddf6-4d4cb4223ec7"
      },
      "execution_count": null,
      "outputs": [
        {
          "output_type": "stream",
          "name": "stdout",
          "text": [
            "['++++Hi++++' '++Hello+++']\n"
          ]
        }
      ]
    },
    {
      "cell_type": "code",
      "source": [
        "namess = np.array(['Hello World','Python Numpy'])\n",
        "\n",
        "print(np.char.split(namess))"
      ],
      "metadata": {
        "colab": {
          "base_uri": "https://localhost:8080/"
        },
        "id": "ANiVWraKOAvH",
        "outputId": "8d336d29-339b-4c10-fd65-be4a3778427b"
      },
      "execution_count": null,
      "outputs": [
        {
          "output_type": "stream",
          "name": "stdout",
          "text": [
            "[list(['Hello', 'World']) list(['Python', 'Numpy'])]\n"
          ]
        }
      ]
    },
    {
      "cell_type": "code",
      "source": [
        "fruits = np.array(['  apple ',' banana '])\n",
        "print(np.char.strip(fruits))"
      ],
      "metadata": {
        "colab": {
          "base_uri": "https://localhost:8080/"
        },
        "id": "WGxEmUJ3OmLG",
        "outputId": "a2315f67-de1b-4f35-a0cd-cda71e22ca39"
      },
      "execution_count": null,
      "outputs": [
        {
          "output_type": "stream",
          "name": "stdout",
          "text": [
            "['apple' 'banana']\n"
          ]
        }
      ]
    },
    {
      "cell_type": "code",
      "source": [
        "code = np.array(['i hate bugs','bugs are bad'])\n",
        "\n",
        "print(np.char.replace(code,'bugs','features'))"
      ],
      "metadata": {
        "colab": {
          "base_uri": "https://localhost:8080/"
        },
        "id": "iapsTtySPt3L",
        "outputId": "b0cfca98-cec5-4d8a-bf6d-6fe3a45a2ad0"
      },
      "execution_count": null,
      "outputs": [
        {
          "output_type": "stream",
          "name": "stdout",
          "text": [
            "['i hate features' 'features are bad']\n"
          ]
        }
      ]
    },
    {
      "cell_type": "code",
      "source": [
        "emails = np.array(['user@example.com','abc@example.com'])\n",
        "print(np.char.find(emails,'@'))"
      ],
      "metadata": {
        "colab": {
          "base_uri": "https://localhost:8080/"
        },
        "id": "BOLsmvT5QM5T",
        "outputId": "4d8d5766-18ff-435c-ae5b-fd69b5c996fa"
      },
      "execution_count": null,
      "outputs": [
        {
          "output_type": "stream",
          "name": "stdout",
          "text": [
            "[4 3]\n"
          ]
        }
      ]
    },
    {
      "cell_type": "markdown",
      "source": [
        "##Numpy DateTime Function"
      ],
      "metadata": {
        "id": "q4GOgwRBSLOS"
      }
    },
    {
      "cell_type": "code",
      "source": [
        "date1 = np.datetime64('2025-05-08')\n",
        "\n",
        "print(date1)\n",
        "\n",
        "datetime1 = np.datetime64('2025-07-24T05:26')\n",
        "\n",
        "print(datetime1)"
      ],
      "metadata": {
        "colab": {
          "base_uri": "https://localhost:8080/"
        },
        "id": "GUB8plEDQMwj",
        "outputId": "fd12df94-c15a-499c-8fb7-d829756d2bdb"
      },
      "execution_count": null,
      "outputs": [
        {
          "output_type": "stream",
          "name": "stdout",
          "text": [
            "2025-05-08\n",
            "2025-07-24T05:26\n"
          ]
        }
      ]
    },
    {
      "cell_type": "code",
      "source": [
        "#Convert to string\n",
        "\n",
        "date2 = np.datetime64('2025-05-08')\n",
        "print(date2.astype(str))"
      ],
      "metadata": {
        "colab": {
          "base_uri": "https://localhost:8080/"
        },
        "id": "8GUA3YX1QMdk",
        "outputId": "345460e9-a6c8-4fde-aea2-81fc87d2ea11"
      },
      "execution_count": null,
      "outputs": [
        {
          "output_type": "stream",
          "name": "stdout",
          "text": [
            "2025-05-08\n"
          ]
        }
      ]
    },
    {
      "cell_type": "markdown",
      "source": [
        "##datetime with units(D,M,Y,h,m,s)"
      ],
      "metadata": {
        "id": "3FmD8ftUVUR2"
      }
    },
    {
      "cell_type": "code",
      "source": [
        "print(np.datetime64('2025-07-24','M'))"
      ],
      "metadata": {
        "colab": {
          "base_uri": "https://localhost:8080/"
        },
        "id": "IrrbD_rhTCPC",
        "outputId": "b5d785df-3482-4c9e-ede0-b57ab189989e"
      },
      "execution_count": null,
      "outputs": [
        {
          "output_type": "stream",
          "name": "stdout",
          "text": [
            "2025-07\n"
          ]
        }
      ]
    },
    {
      "cell_type": "code",
      "source": [
        "print(np.datetime64('2025-07-24T10:30','h'))"
      ],
      "metadata": {
        "colab": {
          "base_uri": "https://localhost:8080/"
        },
        "id": "dTtYlvSTV2on",
        "outputId": "ac36abec-5f10-4e02-f2a3-73e8626c9e8c"
      },
      "execution_count": null,
      "outputs": [
        {
          "output_type": "stream",
          "name": "stdout",
          "text": [
            "2025-07-24T10\n"
          ]
        }
      ]
    },
    {
      "cell_type": "code",
      "source": [
        "dt =np.arange('2025-05-01','2025-05-08',dtype='datetime64[D]')\n",
        "\n",
        "print(dt)"
      ],
      "metadata": {
        "colab": {
          "base_uri": "https://localhost:8080/"
        },
        "id": "vYoKItv-V_NG",
        "outputId": "baa468a3-ae19-42b3-ebbb-a8ee80ffdc5c"
      },
      "execution_count": null,
      "outputs": [
        {
          "output_type": "stream",
          "name": "stdout",
          "text": [
            "['2025-05-01' '2025-05-02' '2025-05-03' '2025-05-04' '2025-05-05'\n",
            " '2025-05-06' '2025-05-07']\n"
          ]
        }
      ]
    },
    {
      "cell_type": "code",
      "source": [
        "#Calculating difference\n",
        "d1 = np.datetime64('2025-05-10')\n",
        "d2 = np.datetime64('2025-05-01')\n",
        "\n",
        "print('Difference',d1 - d2)"
      ],
      "metadata": {
        "colab": {
          "base_uri": "https://localhost:8080/"
        },
        "id": "uh5zwCzjW75B",
        "outputId": "75379645-7fb7-4b2f-9429-b180963bb7ab"
      },
      "execution_count": null,
      "outputs": [
        {
          "output_type": "stream",
          "name": "stdout",
          "text": [
            "Difference 9 days\n"
          ]
        }
      ]
    },
    {
      "cell_type": "code",
      "source": [
        "type(d1- d2)"
      ],
      "metadata": {
        "colab": {
          "base_uri": "https://localhost:8080/"
        },
        "id": "lwozvcb7XOLH",
        "outputId": "932317f9-60b8-45f8-f563-a5000eb46f55"
      },
      "execution_count": null,
      "outputs": [
        {
          "output_type": "execute_result",
          "data": {
            "text/plain": [
              "numpy.timedelta64"
            ]
          },
          "metadata": {},
          "execution_count": 93
        }
      ]
    },
    {
      "cell_type": "code",
      "source": [
        "np.datetime64('2025') + np.timedelta64(2025,'h')\n"
      ],
      "metadata": {
        "colab": {
          "base_uri": "https://localhost:8080/"
        },
        "id": "J8xK1XXCXpm1",
        "outputId": "5e663341-1797-43ee-cf7b-5057ba674c43"
      },
      "execution_count": null,
      "outputs": [
        {
          "output_type": "execute_result",
          "data": {
            "text/plain": [
              "np.datetime64('2025-03-26T09','h')"
            ]
          },
          "metadata": {},
          "execution_count": 101
        }
      ]
    },
    {
      "cell_type": "code",
      "source": [
        "#Get Current date\n",
        "print('Today:',np.datetime64('today'))"
      ],
      "metadata": {
        "colab": {
          "base_uri": "https://localhost:8080/"
        },
        "id": "2GRiUIF2YV8N",
        "outputId": "7a33376e-1165-4356-a8df-82a9e1d958a4"
      },
      "execution_count": null,
      "outputs": [
        {
          "output_type": "stream",
          "name": "stdout",
          "text": [
            "Today: 2025-07-24\n"
          ]
        }
      ]
    },
    {
      "cell_type": "markdown",
      "source": [
        "##File I/O functions in numpy"
      ],
      "metadata": {
        "id": "3bOxmybCd_TX"
      }
    },
    {
      "cell_type": "code",
      "source": [
        "#To save numpy data in the '.csv' file.\n",
        "\n",
        "data = np.array([[10,20],[30,40],[50,60]])\n",
        "np.savetxt('score.csv',data ,delimiter=',',fmt='%d')"
      ],
      "metadata": {
        "id": "-zhtKmuiabFE"
      },
      "execution_count": 3,
      "outputs": []
    },
    {
      "cell_type": "code",
      "source": [
        "#Load the data from the '.csv'.\n",
        "\n",
        "loaded_scores = np.loadtxt('score.csv',delimiter=\",\")\n",
        "\n",
        "print(loaded_scores)"
      ],
      "metadata": {
        "colab": {
          "base_uri": "https://localhost:8080/"
        },
        "id": "29erQ9aDfi5M",
        "outputId": "a4aca726-a013-4754-eced-62b7bb92407b"
      },
      "execution_count": 4,
      "outputs": [
        {
          "output_type": "stream",
          "name": "stdout",
          "text": [
            "[[10. 20.]\n",
            " [30. 40.]\n",
            " [50. 60.]]\n"
          ]
        }
      ]
    },
    {
      "cell_type": "code",
      "source": [
        "#Save the numpy array in '.npy' file\n",
        "\n",
        "datanp = np.array([1,2,3,4,5])\n",
        "\n",
        "np.save('myarray.npy',datanp)"
      ],
      "metadata": {
        "id": "ZVhTp1IehLIq"
      },
      "execution_count": 5,
      "outputs": []
    },
    {
      "cell_type": "code",
      "source": [
        "#Load the data from the '.npy' file\n",
        "\n",
        "load_datanp = np.load('myarray.npy')\n",
        "\n",
        "print(load_datanp)"
      ],
      "metadata": {
        "colab": {
          "base_uri": "https://localhost:8080/"
        },
        "id": "-0jOKyqDHDl6",
        "outputId": "d337ffa2-4ad0-4166-8ed3-2d0d58518998"
      },
      "execution_count": 6,
      "outputs": [
        {
          "output_type": "stream",
          "name": "stdout",
          "text": [
            "[1 2 3 4 5]\n"
          ]
        }
      ]
    },
    {
      "cell_type": "code",
      "source": [
        "#Save multiple array in '.npz' file.\n",
        "\n",
        "a = np.array([1,2,3,4,5])\n",
        "b = np.array([6,7,8,9,10])\n",
        "\n",
        "np.savez('multiple.npz', array1=a , array2=b)"
      ],
      "metadata": {
        "id": "Xzqd9omRHQB1"
      },
      "execution_count": 13,
      "outputs": []
    },
    {
      "cell_type": "code",
      "source": [
        "#Loading the '.npz' file.\n",
        "multi_data = np.load('multiple.npz')\n",
        "\n",
        "print(multi_data['array1'])\n",
        "\n",
        "print(multi_data['array2'])"
      ],
      "metadata": {
        "colab": {
          "base_uri": "https://localhost:8080/"
        },
        "id": "zTaNSQhzKOQK",
        "outputId": "9c5e9c27-e02c-45b4-b99a-7b6dd91b10b5"
      },
      "execution_count": 15,
      "outputs": [
        {
          "output_type": "stream",
          "name": "stdout",
          "text": [
            "[1 2 3 4 5]\n",
            "[ 6  7  8  9 10]\n"
          ]
        }
      ]
    },
    {
      "cell_type": "markdown",
      "source": [
        "##Linear Algebra"
      ],
      "metadata": {
        "id": "z509W4v3M_ot"
      }
    },
    {
      "cell_type": "code",
      "source": [
        "#using np.dot() for matrix multiplication.\n",
        "\n",
        "A = np.array([[1,2],[3,4]])\n",
        "B = np.array([[5,6],[7,8]])\n",
        "\n",
        "result = np.dot(A,B)\n",
        "\n",
        "print(result)"
      ],
      "metadata": {
        "colab": {
          "base_uri": "https://localhost:8080/"
        },
        "id": "CeecTQ4_Krvs",
        "outputId": "38accd81-fb0e-45a1-e6f5-b8bd9ee5bbb0"
      },
      "execution_count": 21,
      "outputs": [
        {
          "output_type": "stream",
          "name": "stdout",
          "text": [
            "[[19 22]\n",
            " [43 50]]\n"
          ]
        }
      ]
    },
    {
      "cell_type": "code",
      "source": [
        "AA = np.array([[1,2],[3,4]])\n",
        "transpose_A = np.transpose(AA)\n",
        "\n",
        "print(transpose_A)"
      ],
      "metadata": {
        "colab": {
          "base_uri": "https://localhost:8080/"
        },
        "id": "sEXpZxWONjtJ",
        "outputId": "f5b0460e-a95b-484a-ffa8-6ceeab8fce7d"
      },
      "execution_count": 23,
      "outputs": [
        {
          "output_type": "stream",
          "name": "stdout",
          "text": [
            "[[1 3]\n",
            " [2 4]]\n"
          ]
        }
      ]
    },
    {
      "cell_type": "code",
      "source": [
        "#Determinant of the matrix.\n",
        "\n",
        "mat = np.array([[1,2],[3,4]])\n",
        "\n",
        "det = np.linalg.det(mat)\n",
        "\n",
        "print('Determinant',det)"
      ],
      "metadata": {
        "colab": {
          "base_uri": "https://localhost:8080/"
        },
        "id": "NvpSP3RyNtoX",
        "outputId": "aa1bcbb6-4d9a-473b-b38f-202529c55142"
      },
      "execution_count": 25,
      "outputs": [
        {
          "output_type": "stream",
          "name": "stdout",
          "text": [
            "Determinant -2.0000000000000004\n"
          ]
        }
      ]
    },
    {
      "cell_type": "code",
      "source": [
        "#Inverse of the matrix\n",
        "\n",
        "mat1 = np.array([[1,2],[3,4]])\n",
        "inv_A = np.linalg.inv(mat1)\n",
        "\n",
        "print('Inverse:\\n',inv_A)"
      ],
      "metadata": {
        "colab": {
          "base_uri": "https://localhost:8080/"
        },
        "id": "1yb90f4YNuOv",
        "outputId": "8263971c-b969-46ff-fbc0-6abf9562bb16"
      },
      "execution_count": 30,
      "outputs": [
        {
          "output_type": "stream",
          "name": "stdout",
          "text": [
            "Inverse:\n",
            " [[-2.   1. ]\n",
            " [ 1.5 -0.5]]\n"
          ]
        }
      ]
    },
    {
      "cell_type": "code",
      "source": [
        "#To find eigenvalues and eigenvectors\n",
        "\n",
        "mat2 = np.array([[4,-2],[1,1]])\n",
        "\n",
        "eigvals , eigvecs = np.linalg.eig(mat2)\n",
        "\n",
        "print('Eigenvalues:',eigvals)\n",
        "print('EigenVector',eigvecs)"
      ],
      "metadata": {
        "colab": {
          "base_uri": "https://localhost:8080/"
        },
        "id": "Ik-iLDa3RT7y",
        "outputId": "1639d0bc-0f2d-48bd-fb75-095cc4e13aa2"
      },
      "execution_count": 3,
      "outputs": [
        {
          "output_type": "stream",
          "name": "stdout",
          "text": [
            "Eigenvalues: [3. 2.]\n",
            "EigenVector [[0.89442719 0.70710678]\n",
            " [0.4472136  0.70710678]]\n"
          ]
        }
      ]
    },
    {
      "cell_type": "code",
      "source": [
        "#To solve a system of linear equations Ax=b.\n",
        "A = np.array([[2,1],[1,3]])\n",
        "b = np.array([[8,18],[4,15]])\n",
        "\n",
        "x = np.linalg.solve(A,b)\n",
        "\n",
        "print(\"Solution:\",x)"
      ],
      "metadata": {
        "colab": {
          "base_uri": "https://localhost:8080/"
        },
        "id": "qZaTAvznw776",
        "outputId": "70e203b6-b6be-455d-f996-44ddb794401c"
      },
      "execution_count": 7,
      "outputs": [
        {
          "output_type": "stream",
          "name": "stdout",
          "text": [
            "Solution: [[4.  7.8]\n",
            " [0.  2.4]]\n"
          ]
        }
      ]
    },
    {
      "cell_type": "markdown",
      "source": [
        "##Handling Missing Data in Numpy"
      ],
      "metadata": {
        "id": "agphvbXz0IBI"
      }
    },
    {
      "cell_type": "code",
      "source": [
        "#Array with NaN (missing) values.\n",
        "\n",
        "data = np.array([1, 2, np.nan , 4 , 5 , np.nan])\n",
        "\n",
        "print(data)"
      ],
      "metadata": {
        "colab": {
          "base_uri": "https://localhost:8080/"
        },
        "id": "3GvkxOrCzDUN",
        "outputId": "d05031a6-5dac-402d-b035-c3da37a6651c"
      },
      "execution_count": 12,
      "outputs": [
        {
          "output_type": "stream",
          "name": "stdout",
          "text": [
            "[ 1.  2. nan  4.  5. nan]\n"
          ]
        }
      ]
    },
    {
      "cell_type": "code",
      "source": [
        "#check for NaN values\n",
        "\n",
        "is_nan = np.isnan(data)\n",
        "\n",
        "print('Check for NaN values:',is_nan)"
      ],
      "metadata": {
        "colab": {
          "base_uri": "https://localhost:8080/"
        },
        "id": "t88qoL7A0uvv",
        "outputId": "14923bbc-1ec9-48bb-e936-72edddc99f8d"
      },
      "execution_count": 14,
      "outputs": [
        {
          "output_type": "stream",
          "name": "stdout",
          "text": [
            "Check for NaN values: [False False  True False False  True]\n"
          ]
        }
      ]
    },
    {
      "cell_type": "code",
      "source": [
        "#Replacing NaN value with number.\n",
        "\n",
        "cleaned_data = np.nan_to_num(data,nan=0)\n",
        "\n",
        "print('Cleaned data:',cleaned_data)"
      ],
      "metadata": {
        "colab": {
          "base_uri": "https://localhost:8080/"
        },
        "id": "qC23iaSv071E",
        "outputId": "674b31b6-397c-4866-9f60-5db48e68748c"
      },
      "execution_count": 18,
      "outputs": [
        {
          "output_type": "stream",
          "name": "stdout",
          "text": [
            "Cleaned data: [1. 2. 0. 4. 5. 0.]\n"
          ]
        }
      ]
    },
    {
      "cell_type": "code",
      "source": [
        "#Finding mean and replacing nan with mean.\n",
        "\n",
        "mean_value = np.nanmean(data)\n",
        "mean_value"
      ],
      "metadata": {
        "colab": {
          "base_uri": "https://localhost:8080/"
        },
        "id": "ZbM-EEEq1zld",
        "outputId": "9c8622f7-2a1b-41c5-91b8-5f782404dd4f"
      },
      "execution_count": 22,
      "outputs": [
        {
          "output_type": "execute_result",
          "data": {
            "text/plain": [
              "np.float64(3.0)"
            ]
          },
          "metadata": {},
          "execution_count": 22
        }
      ]
    },
    {
      "cell_type": "code",
      "source": [
        "filled_data = np.where(np.isnan(data),mean_value,data)\n",
        "\n",
        "print('data after filling NaN with mean:',filled_data)"
      ],
      "metadata": {
        "colab": {
          "base_uri": "https://localhost:8080/"
        },
        "id": "8eh_gBIr2k36",
        "outputId": "21250ff9-3723-43d0-d14c-30c1bdd18573"
      },
      "execution_count": 23,
      "outputs": [
        {
          "output_type": "stream",
          "name": "stdout",
          "text": [
            "data after filling NaN with mean: [1. 2. 3. 4. 5. 3.]\n"
          ]
        }
      ]
    },
    {
      "cell_type": "code",
      "source": [
        "#Remove missing values NaN.\n",
        "\n",
        "clean_data = data[~np.isnan(data)]\n",
        "\n",
        "print('Data after removing NaN values:',clean_data)"
      ],
      "metadata": {
        "colab": {
          "base_uri": "https://localhost:8080/"
        },
        "id": "H4PTFMtS3Va7",
        "outputId": "c55f53b8-66a1-4f8f-c178-9ab4202a3903"
      },
      "execution_count": 25,
      "outputs": [
        {
          "output_type": "stream",
          "name": "stdout",
          "text": [
            "Data after removing NaN values: [1. 2. 4. 5.]\n"
          ]
        }
      ]
    }
  ]
}